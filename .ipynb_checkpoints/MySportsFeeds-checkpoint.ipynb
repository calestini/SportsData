{
 "cells": [
  {
   "cell_type": "code",
   "execution_count": 8,
   "metadata": {
    "collapsed": true
   },
   "outputs": [],
   "source": [
    "import requests\n",
    "from requests.auth import HTTPBasicAuth\n",
    "import pandas as pd\n",
    "import numpy as np\n",
    "import seaborn as sns\n",
    "%matplotlib inline\n",
    "import matplotlib.pyplot as plt"
   ]
  },
  {
   "cell_type": "code",
   "execution_count": 3,
   "metadata": {
    "collapsed": true
   },
   "outputs": [],
   "source": [
    "userid = ''\n",
    "password = ''"
   ]
  },
  {
   "cell_type": "code",
   "execution_count": 5,
   "metadata": {},
   "outputs": [],
   "source": [
    "p_stats = requests.get('https://api.mysportsfeeds.com/v1.1/pull/nfl/2016-2017-regular/cumulative_player_stats.json?playerstats=Att,Comp,Yds,TD.json', auth=HTTPBasicAuth(userid, password))\n",
    "pstats_json = p_stats.json()"
   ]
  },
  {
   "cell_type": "code",
   "execution_count": 6,
   "metadata": {},
   "outputs": [
    {
     "data": {
      "text/html": [
       "<div>\n",
       "<style scoped>\n",
       "    .dataframe tbody tr th:only-of-type {\n",
       "        vertical-align: middle;\n",
       "    }\n",
       "\n",
       "    .dataframe tbody tr th {\n",
       "        vertical-align: top;\n",
       "    }\n",
       "\n",
       "    .dataframe thead th {\n",
       "        text-align: right;\n",
       "    }\n",
       "</style>\n",
       "<table border=\"1\" class=\"dataframe\">\n",
       "  <thead>\n",
       "    <tr style=\"text-align: right;\">\n",
       "      <th></th>\n",
       "      <th>FirstName</th>\n",
       "      <th>LastName</th>\n",
       "      <th>Position</th>\n",
       "      <th>GamesPlayed</th>\n",
       "      <th>PassTD</th>\n",
       "      <th>TeamCity</th>\n",
       "      <th>TeamName</th>\n",
       "    </tr>\n",
       "  </thead>\n",
       "  <tbody>\n",
       "    <tr>\n",
       "      <th>0</th>\n",
       "      <td>Jared</td>\n",
       "      <td>Abbrederis</td>\n",
       "      <td>WR</td>\n",
       "      <td>3</td>\n",
       "      <td>0</td>\n",
       "      <td>Green Bay</td>\n",
       "      <td>Packers</td>\n",
       "    </tr>\n",
       "    <tr>\n",
       "      <th>1</th>\n",
       "      <td>Ameer</td>\n",
       "      <td>Abdullah</td>\n",
       "      <td>RB</td>\n",
       "      <td>2</td>\n",
       "      <td>0</td>\n",
       "      <td>Detroit</td>\n",
       "      <td>Lions</td>\n",
       "    </tr>\n",
       "    <tr>\n",
       "      <th>2</th>\n",
       "      <td>Davante</td>\n",
       "      <td>Adams</td>\n",
       "      <td>WR</td>\n",
       "      <td>16</td>\n",
       "      <td>0</td>\n",
       "      <td>Green Bay</td>\n",
       "      <td>Packers</td>\n",
       "    </tr>\n",
       "    <tr>\n",
       "      <th>3</th>\n",
       "      <td>Jerell</td>\n",
       "      <td>Adams</td>\n",
       "      <td>TE</td>\n",
       "      <td>6</td>\n",
       "      <td>0</td>\n",
       "      <td>New York</td>\n",
       "      <td>Giants</td>\n",
       "    </tr>\n",
       "    <tr>\n",
       "      <th>4</th>\n",
       "      <td>Bralon</td>\n",
       "      <td>Addison</td>\n",
       "      <td>WR</td>\n",
       "      <td>2</td>\n",
       "      <td>0</td>\n",
       "      <td>Chicago</td>\n",
       "      <td>Bears</td>\n",
       "    </tr>\n",
       "  </tbody>\n",
       "</table>\n",
       "</div>"
      ],
      "text/plain": [
       "  FirstName    LastName Position GamesPlayed PassTD   TeamCity TeamName\n",
       "0     Jared  Abbrederis       WR           3      0  Green Bay  Packers\n",
       "1     Ameer    Abdullah       RB           2      0    Detroit    Lions\n",
       "2   Davante       Adams       WR          16      0  Green Bay  Packers\n",
       "3    Jerell       Adams       TE           6      0   New York   Giants\n",
       "4    Bralon     Addison       WR           2      0    Chicago    Bears"
      ]
     },
     "execution_count": 6,
     "metadata": {},
     "output_type": "execute_result"
    }
   ],
   "source": [
    "players = []\n",
    "counter = 0\n",
    "for player in pstats_json['cumulativeplayerstats']['playerstatsentry']:\n",
    "    try:\n",
    "        x = player['stats']['PassTD']['#text']\n",
    "        players.append([\n",
    "        player['player']['FirstName'],\n",
    "        player['player']['LastName'], \n",
    "        player['player']['Position'],\n",
    "        player['stats']['GamesPlayed']['#text'],\n",
    "        player['stats']['PassTD']['#text'],\n",
    "        player['team']['City'],\n",
    "        player['team']['Name']\n",
    "    ])\n",
    "    except:\n",
    "        continue\n",
    "    \n",
    "players_df = pd.DataFrame(players, columns = ['FirstName','LastName','Position','GamesPlayed','PassTD','TeamCity','TeamName'])\n",
    "players_df.head()"
   ]
  },
  {
   "cell_type": "code",
   "execution_count": 7,
   "metadata": {},
   "outputs": [
    {
     "data": {
      "text/html": [
       "<div>\n",
       "<style scoped>\n",
       "    .dataframe tbody tr th:only-of-type {\n",
       "        vertical-align: middle;\n",
       "    }\n",
       "\n",
       "    .dataframe tbody tr th {\n",
       "        vertical-align: top;\n",
       "    }\n",
       "\n",
       "    .dataframe thead th {\n",
       "        text-align: right;\n",
       "    }\n",
       "</style>\n",
       "<table border=\"1\" class=\"dataframe\">\n",
       "  <thead>\n",
       "    <tr style=\"text-align: right;\">\n",
       "      <th></th>\n",
       "      <th>FirstName</th>\n",
       "      <th>LastName</th>\n",
       "      <th>Position</th>\n",
       "      <th>GamesPlayed</th>\n",
       "      <th>PassTD</th>\n",
       "      <th>TeamCity</th>\n",
       "      <th>TeamName</th>\n",
       "    </tr>\n",
       "  </thead>\n",
       "  <tbody>\n",
       "    <tr>\n",
       "      <th>25</th>\n",
       "      <td>Doug</td>\n",
       "      <td>Baldwin</td>\n",
       "      <td>WR</td>\n",
       "      <td>16</td>\n",
       "      <td>1</td>\n",
       "      <td>Seattle</td>\n",
       "      <td>Seahawks</td>\n",
       "    </tr>\n",
       "    <tr>\n",
       "      <th>193</th>\n",
       "      <td>Jimmy</td>\n",
       "      <td>Graham</td>\n",
       "      <td>TE</td>\n",
       "      <td>16</td>\n",
       "      <td>0</td>\n",
       "      <td>Seattle</td>\n",
       "      <td>Seahawks</td>\n",
       "    </tr>\n",
       "    <tr>\n",
       "      <th>281</th>\n",
       "      <td>Jermaine</td>\n",
       "      <td>Kearse</td>\n",
       "      <td>WR</td>\n",
       "      <td>16</td>\n",
       "      <td>0</td>\n",
       "      <td>Seattle</td>\n",
       "      <td>Seahawks</td>\n",
       "    </tr>\n",
       "    <tr>\n",
       "      <th>311</th>\n",
       "      <td>Tyler</td>\n",
       "      <td>Lockett</td>\n",
       "      <td>WR</td>\n",
       "      <td>15</td>\n",
       "      <td>0</td>\n",
       "      <td>Seattle</td>\n",
       "      <td>Seahawks</td>\n",
       "    </tr>\n",
       "    <tr>\n",
       "      <th>410</th>\n",
       "      <td>Paul</td>\n",
       "      <td>Richardson</td>\n",
       "      <td>WR</td>\n",
       "      <td>13</td>\n",
       "      <td>0</td>\n",
       "      <td>Seattle</td>\n",
       "      <td>Seahawks</td>\n",
       "    </tr>\n",
       "  </tbody>\n",
       "</table>\n",
       "</div>"
      ],
      "text/plain": [
       "    FirstName    LastName Position  GamesPlayed  PassTD TeamCity  TeamName\n",
       "25       Doug     Baldwin       WR           16       1  Seattle  Seahawks\n",
       "193     Jimmy      Graham       TE           16       0  Seattle  Seahawks\n",
       "281  Jermaine      Kearse       WR           16       0  Seattle  Seahawks\n",
       "311     Tyler     Lockett       WR           15       0  Seattle  Seahawks\n",
       "410      Paul  Richardson       WR           13       0  Seattle  Seahawks"
      ]
     },
     "execution_count": 7,
     "metadata": {},
     "output_type": "execute_result"
    }
   ],
   "source": [
    "players_df['GamesPlayed'] = players_df['GamesPlayed'].map(np.int16)\n",
    "players_df['PassTD'] = players_df['PassTD'].map(np.int16)\n",
    "\n",
    "players_df[(players_df['TeamName'] == 'Seahawks') & (players_df['GamesPlayed'] > 10)].head()"
   ]
  },
  {
   "cell_type": "code",
   "execution_count": 10,
   "metadata": {
    "collapsed": true
   },
   "outputs": [],
   "source": [
    "topPassTD = players_df[(players_df['Position'] == 'QB') & (players_df['GamesPlayed'] > 10)].sort_values('PassTD', ascending = False)\n",
    "topPassTD['name'] = topPassTD['FirstName'] +' '+topPassTD['LastName']"
   ]
  },
  {
   "cell_type": "code",
   "execution_count": 11,
   "metadata": {},
   "outputs": [
    {
     "name": "stderr",
     "output_type": "stream",
     "text": [
      "/Users/calestini/anaconda/lib/python3.6/site-packages/seaborn/categorical.py:1428: FutureWarning: remove_na is deprecated and is a private function. Do not use.\n",
      "  stat_data = remove_na(group_data)\n"
     ]
    },
    {
     "data": {
      "text/plain": [
       "<matplotlib.text.Text at 0x11d765a20>"
      ]
     },
     "execution_count": 11,
     "metadata": {},
     "output_type": "execute_result"
    },
    {
     "data": {
      "image/png": "[encoded data removed]",
      "text/plain": [
       "<matplotlib.figure.Figure at 0x11cad8710>"
      ]
     },
     "metadata": {},
     "output_type": "display_data"
    }
   ],
   "source": [
    "plt.figure(figsize=(16,8))\n",
    "sns.barplot(topPassTD['PassTD'],topPassTD['name'], color = 'salmon')\n",
    "plt.title('Touchdown Passes Regular Season 2016-2017')"
   ]
  },
  {
   "cell_type": "code",
   "execution_count": null,
   "metadata": {
    "collapsed": true
   },
   "outputs": [],
   "source": []
  }
 ],
 "metadata": {
  "kernelspec": {
   "display_name": "Python 3",
   "language": "python",
   "name": "python3"
  },
  "language_info": {
   "codemirror_mode": {
    "name": "ipython",
    "version": 3
   },
   "file_extension": ".py",
   "mimetype": "text/x-python",
   "name": "python",
   "nbconvert_exporter": "python",
   "pygments_lexer": "ipython3",
   "version": "3.6.1"
  }
 },
 "nbformat": 4,
 "nbformat_minor": 2
}
